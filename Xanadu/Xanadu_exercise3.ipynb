{
 "cells": [
  {
   "cell_type": "code",
   "execution_count": 2,
   "metadata": {},
   "outputs": [
    {
     "data": {
      "text/plain": [
       "WindowsPath('beamsplitter_DOE.gds')"
      ]
     },
     "execution_count": 2,
     "metadata": {},
     "output_type": "execute_result"
    },
    {
     "data": {
      "image/png": "[encoded data removed]",
      "text/plain": [
       "<Figure size 800x600 with 1 Axes>"
      ]
     },
     "metadata": {},
     "output_type": "display_data"
    }
   ],
   "source": [
    "import gdsfactory as gf\n",
    "import numpy as np \n",
    "\n",
    "# define the function to generate the 50:50 beamsplitter based on a directional coupler with half the critical length\n",
    "@gf.cell\n",
    "def beamsplitter_50_50(gap, interaction_length, dx, dy, wg_width, coupler_length, edge_width, length_straight, cross_section, layer):\n",
    "    c = gf.Component()\n",
    "\n",
    "    directional_coupler = gf.components.coupler(gap = gap, length = interaction_length, dy = dy, dx = dx, cross_section=cross_section)\n",
    "    edge_coupler = gf.components.edge_coupler_silicon(length=coupler_length, width1=wg_width, width2=edge_width, with_two_ports=True, port_names=('o1', 'o2'), port_types=('optical', 'optical'), with_bbox=True, layer = layer)\n",
    "    straight_wg = gf.components.straight(length = length_straight, cross_section=cross_section)\n",
    "\n",
    "    directional_coupler_ref = c.add_ref(directional_coupler)\n",
    "    edge_coupler1_ref = c.add_ref(edge_coupler)\n",
    "    edge_coupler2_ref = c.add_ref(edge_coupler)\n",
    "    edge_coupler3_ref = c.add_ref(edge_coupler)\n",
    "    edge_coupler4_ref = c.add_ref(edge_coupler)\n",
    "\n",
    "    straight_wg1_ref = c.add_ref(straight_wg)\n",
    "    straight_wg2_ref = c.add_ref(straight_wg)\n",
    "    straight_wg3_ref = c.add_ref(straight_wg)\n",
    "    straight_wg4_ref = c.add_ref(straight_wg)\n",
    "\n",
    "    straight_wg1_ref.connect('o1', other = directional_coupler_ref.ports['o1'])\n",
    "    straight_wg2_ref.connect('o1', other = directional_coupler_ref.ports['o2'])\n",
    "    straight_wg3_ref.connect('o1', other = directional_coupler_ref.ports['o3'])\n",
    "    straight_wg4_ref.connect('o1', other = directional_coupler_ref.ports['o4'])\n",
    "\n",
    "    edge_coupler1_ref.connect('o1', other = straight_wg1_ref.ports['o2'])\n",
    "    edge_coupler2_ref.connect('o1', other = straight_wg2_ref.ports['o2'])\n",
    "    edge_coupler3_ref.connect('o1', other = straight_wg3_ref.ports['o2'])\n",
    "    edge_coupler4_ref.connect('o1', other = straight_wg4_ref.ports['o2'])\n",
    "\n",
    "    return c\n",
    "\n",
    "# set the layer\n",
    "layer = (1, 0)\n",
    "\n",
    "# directional coupler parameters to obtain a 50:50 beamsplitter \n",
    "gaps = np.linspace(0.230, 0.270, 5)\n",
    "interaction_lengths = np.linspace(7.8, 11.8, 5)\n",
    "dx = 10\n",
    "dy = 10\n",
    "wg_width = 0.430\n",
    "cross_section = gf.cross_section.cross_section(width=wg_width, layer=layer, radius = 0)\n",
    "\n",
    "# edge coupler parameters \n",
    "coupler_length = 50\n",
    "edge_width = 0.2\n",
    "length_straight = 100\n",
    "\n",
    "master_layout = gf.Component(\"master_layout\")\n",
    "\n",
    "y_spacing = 30\n",
    "y_offset = 0\n",
    "\n",
    "#generate the structure and the gds \n",
    "for gap in gaps: \n",
    "    for interaction_length in interaction_lengths:  \n",
    "        beamsplitter = beamsplitter_50_50(gap = gap, interaction_length = interaction_length, dx = dx, dy = dy, wg_width=wg_width, coupler_length=coupler_length, edge_width=edge_width, length_straight = length_straight, cross_section=cross_section, layer = layer)\n",
    "        beamsplitter_ref = master_layout.add_ref(beamsplitter).dmovey(y_offset)\n",
    "        y_offset += y_spacing\n",
    "\n",
    "master_layout.plot()\n",
    "master_layout.write_gds(\"beamsplitter_DOE.gds\")"
   ]
  }
 ],
 "metadata": {
  "kernelspec": {
   "display_name": "Python 3",
   "language": "python",
   "name": "python3"
  },
  "language_info": {
   "codemirror_mode": {
    "name": "ipython",
    "version": 3
   },
   "file_extension": ".py",
   "mimetype": "text/x-python",
   "name": "python",
   "nbconvert_exporter": "python",
   "pygments_lexer": "ipython3",
   "version": "3.12.4"
  }
 },
 "nbformat": 4,
 "nbformat_minor": 2
}
