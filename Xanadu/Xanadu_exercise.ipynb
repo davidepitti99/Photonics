{
 "cells": [
  {
   "cell_type": "code",
   "execution_count": 2,
   "metadata": {},
   "outputs": [
    {
     "data": {
      "text/plain": [
       "WindowsPath('directional_coupler.gds')"
      ]
     },
     "execution_count": 2,
     "metadata": {},
     "output_type": "execute_result"
    },
    {
     "data": {
      "image/png": "[encoded data removed]",
      "text/plain": [
       "<Figure size 800x600 with 1 Axes>"
      ]
     },
     "metadata": {},
     "output_type": "display_data"
    }
   ],
   "source": [
    "import gdsfactory as gf\n",
    "\n",
    "@gf.cell\n",
    "def beamsplitter_50_50(gap, interaction_length, dx, dy, wg_width, coupler_length, edge_width, length_straight, cross_section, layer):\n",
    "    c = gf.Component()\n",
    "\n",
    "    directional_coupler = gf.components.coupler(gap = gap, length = interaction_length, dy = dy, dx = dx, cross_section=cross_section)\n",
    "    edge_coupler = gf.components.edge_coupler_silicon(length=coupler_length, width1=wg_width, width2=edge_width, with_two_ports=True, port_names=('o1', 'o2'), port_types=('optical', 'optical'), with_bbox=True)\n",
    "    straight_wg = gf.components.straight(length = length_straight, cross_section=cross_section)\n",
    "\n",
    "    directional_coupler_ref = c.add_ref(directional_coupler)\n",
    "    edge_coupler1_ref = c.add_ref(edge_coupler)\n",
    "    edge_coupler2_ref = c.add_ref(edge_coupler)\n",
    "    edge_coupler3_ref = c.add_ref(edge_coupler)\n",
    "    edge_coupler4_ref = c.add_ref(edge_coupler)\n",
    "\n",
    "    straight_wg1_ref = c.add_ref(straight_wg)\n",
    "    straight_wg2_ref = c.add_ref(straight_wg)\n",
    "    straight_wg3_ref = c.add_ref(straight_wg)\n",
    "    straight_wg4_ref = c.add_ref(straight_wg)\n",
    "\n",
    "    straight_wg1_ref.connect('o1', other = directional_coupler_ref.ports['o1'])\n",
    "    straight_wg2_ref.connect('o1', other = directional_coupler_ref.ports['o2'])\n",
    "    straight_wg3_ref.connect('o1', other = directional_coupler_ref.ports['o3'])\n",
    "    straight_wg4_ref.connect('o1', other = directional_coupler_ref.ports['o4'])\n",
    "\n",
    "    edge_coupler1_ref.connect('o1', other = straight_wg1_ref.ports['o2'])\n",
    "    edge_coupler2_ref.connect('o1', other = straight_wg2_ref.ports['o2'])\n",
    "    edge_coupler3_ref.connect('o1', other = straight_wg3_ref.ports['o2'])\n",
    "    edge_coupler4_ref.connect('o1', other = straight_wg4_ref.ports['o2'])\n",
    "\n",
    "    return c\n",
    "\n",
    "gap = 0.250\n",
    "interaction_length = 9.8\n",
    "dx = 10\n",
    "dy = 5\n",
    "wg_width = 0.430\n",
    "\n",
    "coupler_length = 10\n",
    "edge_width = 0.2\n",
    "cross_section = gf.cross_section.cross_section(width=wg_width, offset=0, layer='WG', radius = 0)\n",
    "length_straight = 10\n",
    "layer = (1, 0)\n",
    "\n",
    "beamsplitter = beamsplitter_50_50(gap = gap, interaction_length = interaction_length, dx = dx, dy = dy, wg_width=wg_width, coupler_length=coupler_length, edge_width=edge_width, length_straight = length_straight, cross_section=cross_section, layer=layer)\n",
    "beamsplitter.plot()\n",
    "beamsplitter.write_gds(\"directional_coupler.gds\")"
   ]
  }
 ],
 "metadata": {
  "kernelspec": {
   "display_name": "Python 3",
   "language": "python",
   "name": "python3"
  },
  "language_info": {
   "codemirror_mode": {
    "name": "ipython",
    "version": 3
   },
   "file_extension": ".py",
   "mimetype": "text/x-python",
   "name": "python",
   "nbconvert_exporter": "python",
   "pygments_lexer": "ipython3",
   "version": "3.12.4"
  }
 },
 "nbformat": 4,
 "nbformat_minor": 2
}
