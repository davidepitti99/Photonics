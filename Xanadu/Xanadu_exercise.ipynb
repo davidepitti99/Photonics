{
 "cells": [
  {
   "cell_type": "code",
   "execution_count": null,
   "metadata": {},
   "outputs": [],
   "source": [
    "import gdsfactory as gf"
   ]
  },
  {
   "cell_type": "code",
   "execution_count": null,
   "metadata": {},
   "outputs": [],
   "source": [
    "@gf.cell\n",
    "def beamsplitter_50_50(gap, length, dx, dy, wg_width, layer):\n",
    "    c = gf.Component()\n",
    "\n",
    "    directional_coupler = gf.components.coupler(gap = gap, length = length, dy = dy, dx = dx, cross_section='strip')\n",
    "    edge_coupler = gf.components.edge_coupler_silicon(length=10, width1=0.5, width2=0.2, with_two_ports=True, cross_section='strip', port_names=('o1', 'o2'), port_types=('optical', 'optical'), with_bbox=True)\n",
    "\n",
    "    directional_coupler_ref = c.add_ref(directional_coupler)\n",
    "    edge_coupler1_ref = c.add_ref(edge_coupler)\n",
    "    edge_coupler2_ref = c.add_ref(edge_coupler)\n",
    "    edge_coupler3_ref = c.add_ref(edge_coupler)\n",
    "    edge_coupler4_ref = c.add_ref(edge_coupler)\n",
    "\n",
    "    edge_coupler1_ref.connect('o1', other = directional_coupler_ref.ports['o1'])\n",
    "    edge_coupler2_ref.connect('o1', other = directional_coupler_ref.ports['o2'])\n",
    "    edge_coupler3_ref.connect('o1', other = directional_coupler_ref.ports['o3'])\n",
    "    edge_coupler4_ref.connect('o1', other = directional_coupler_ref.ports['o4'])\n",
    "\n",
    "    return c"
   ]
  },
  {
   "cell_type": "code",
   "execution_count": null,
   "metadata": {},
   "outputs": [],
   "source": [
    "gap = 0.250\n",
    "length = 9.8\n",
    "dx = 10\n",
    "dy = 5\n",
    "wg_width = 0.430\n",
    "layer = (1, 0)\n",
    "\n",
    "beamsplitter = beamsplitter_50_50(gap, length, dx, dy, wg_width, layer)\n",
    "beamsplitter.plot()\n",
    "#c.write_gds(\"directional_coupler.gds\")"
   ]
  }
 ],
 "metadata": {
  "kernelspec": {
   "display_name": "Python 3",
   "language": "python",
   "name": "python3"
  },
  "language_info": {
   "codemirror_mode": {
    "name": "ipython",
    "version": 3
   },
   "file_extension": ".py",
   "mimetype": "text/x-python",
   "name": "python",
   "nbconvert_exporter": "python",
   "pygments_lexer": "ipython3",
   "version": "3.12.4"
  }
 },
 "nbformat": 4,
 "nbformat_minor": 2
}
